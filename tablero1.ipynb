{
 "cells": [
  {
   "cell_type": "code",
   "execution_count": 3,
   "metadata": {},
   "outputs": [
    {
     "name": "stdout",
     "output_type": "stream",
     "text": [
      "Writing app.py\n"
     ]
    }
   ],
   "source": [
    "%%writefile app.py\n",
    "import streamlit as st\n",
    "import pandas as pd\n",
    "import seaborn as sns\n",
    "import matplotlib.pyplot as plt\n",
    "\n",
    "# Configuración de la página\n",
    "st.set_page_config(page_title=\"Tablero Iris Local\", layout=\"wide\")\n",
    "st.title(\"🌸 Dashboard de Iris\")\n",
    "\n",
    "# Cargar dataset Iris desde seaborn\n",
    "df = sns.load_dataset(\"iris\")\n",
    "\n",
    "# Mostrar los datos\n",
    "st.subheader(\"Vista previa de los datos\")\n",
    "st.dataframe(df)\n",
    "\n",
    "# Histograma interactivo\n",
    "st.subheader(\"Histograma por columna\")\n",
    "numeric_cols = df.select_dtypes(include='number').columns.tolist()\n",
    "col = st.selectbox(\"Selecciona una columna\", numeric_cols)\n",
    "\n",
    "fig, ax = plt.subplots()\n",
    "ax.hist(df[col], bins=20, color=\"skyblue\", edgecolor=\"black\")\n",
    "ax.set_title(f\"Histograma de {col}\")\n",
    "st.pyplot(fig)\n",
    "\n",
    "# Gráfico de dispersión\n",
    "st.subheader(\"Gráfico de dispersión por especie\")\n",
    "x_col = st.selectbox(\"Eje X\", numeric_cols, index=0)\n",
    "y_col = st.selectbox(\"Eje Y\", numeric_cols, index=1)\n",
    "\n",
    "fig2, ax2 = plt.subplots()\n",
    "sns.scatterplot(data=df, x=x_col, y=y_col, hue=\"species\", ax=ax2)\n",
    "ax2.set_title(f\"{y_col} vs {x_col} por especie\")\n",
    "st.pyplot(fig2)\n"
   ]
  },
  {
   "cell_type": "code",
   "execution_count": 4,
   "metadata": {},
   "outputs": [
    {
     "ename": "SyntaxError",
     "evalue": "invalid syntax (507122745.py, line 1)",
     "output_type": "error",
     "traceback": [
      "\u001b[1;36m  Cell \u001b[1;32mIn[4], line 1\u001b[1;36m\u001b[0m\n\u001b[1;33m    streamlit run app.py\u001b[0m\n\u001b[1;37m              ^\u001b[0m\n\u001b[1;31mSyntaxError\u001b[0m\u001b[1;31m:\u001b[0m invalid syntax\n"
     ]
    }
   ],
   "source": [
    "streamlit run app.py\n"
   ]
  }
 ],
 "metadata": {
  "kernelspec": {
   "display_name": "Python 3",
   "language": "python",
   "name": "python3"
  },
  "language_info": {
   "codemirror_mode": {
    "name": "ipython",
    "version": 3
   },
   "file_extension": ".py",
   "mimetype": "text/x-python",
   "name": "python",
   "nbconvert_exporter": "python",
   "pygments_lexer": "ipython3",
   "version": "3.12.5"
  }
 },
 "nbformat": 4,
 "nbformat_minor": 2
}
